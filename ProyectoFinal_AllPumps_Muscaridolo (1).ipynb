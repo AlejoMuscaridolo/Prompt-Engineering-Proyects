{
 "cells": [
  {
   "cell_type": "markdown",
   "id": "45ac52bd",
   "metadata": {},
   "source": [
    "# Proyecto Final — Entretejiendo Imaginación y Algoritmos\n",
    "\n",
    "**Autor:** Alejo Muscaridolo\n",
    "\n",
    "**Empresa / Caso de estudio:** All Pumps Argentina\n",
    "\n",
    "**Fecha:** 15/09/2025\n",
    "\n",
    "---"
   ]
  },
  {
   "cell_type": "markdown",
   "id": "5a56d157",
   "metadata": {},
   "source": [
    "## Resumen\n",
    "\n",
    "El proyecto aborda las ineficiencias operativas en el proceso de consultas internas sobre repuestos en All Pumps Argentina. Específicamente, el acceso ágil al código del repuesto, al precio actualizado y al listado de proveedores suele ser lento y propenso a errores, mientras que la diversidad de tecnologías de bombeo y la dispersión del conocimiento complican la identificación precisa del componente requerido. Esta POC propone una solución basada en técnicas de *prompting* (texto→texto y texto→imagen) y una pequeña prueba de concepto en Jupyter Notebook que simula: \n",
    "\n",
    "- Búsqueda semántica rápida de repuestos por código, descripción o modelo de bomba.\n",
    "- Generación de descripciones estandarizadas (texto→texto) para apoyar a equipos no técnicos.\n",
    "- Prompts optimizados para generar imágenes conceptuales de repuestos/despieces (texto→imagen) que faciliten la visualización.\n",
    "\n",
    "La idea es reducir errores de selección, acelerar tiempos de respuesta y descentralizar conocimiento técnico."
   ]
  },
  {
   "cell_type": "markdown",
   "id": "e38624d2",
   "metadata": {},
   "source": [
    "## Introducción\n",
    "\n",
    "**Nombre del proyecto:** *Gestión ágil de repuestos para All Pumps Argentina* \n",
    "\n",
    "**Presentación del problema a abordar:**\n",
    "\n",
    "En All Pumps Argentina, el proceso de consultas internas sobre repuestos presenta ineficiencias operativas: acceder con agilidad al código del repuesto, al precio actualizado y al listado de proveedores suele ser lento y propenso a errores. La diversidad de tecnologías de bombeo (centrífugas, de tornillo, sumergibles, de engranajes, peristálticas, de pistón y neumáticas) eleva la complejidad técnica y dificulta la identificación precisa del componente requerido. Como resultado, las áreas comercial y logística dependen en exceso del equipo técnico para reconocer el repuesto, visualizar su aspecto y ubicarlo en el despiece de la bomba, generando demoras y retrabajos.\n",
    "\n",
    "Este contexto afecta la calidad de atención y los tiempos de respuesta frente a clientes internos/externos, incrementa costos indirectos, y dispersa el conocimiento en múltiples fuentes no estandarizadas. Abordar esta problemática es relevante porque habilita: (a) decisiones más rápidas y trazables sobre abastecimiento; (b) reducción de errores en la selección de repuestos; y (c) mayor autonomía de equipos no técnicos al momento de resolver consultas frecuentes.\n",
    "\n",
    "**Propuesta de solución:**\n",
    "\n",
    "Crear una POC que utilice:\n",
    "- Un módulo de búsqueda semántica y reglas de mapeo (simulado aquí con pandas) para encontrar rápidamente código, descripción, precio y proveedores.\n",
    "- Prompts de texto→texto para generar descripciones estandarizadas y guías rápidas (ej. para vendedores o logística).\n",
    "- Prompts de texto→imagen para generar ilustraciones conceptuales de repuestos y secciones de bombas, que ayuden a identificar visualmente el componente.\n",
    "\n",
    "**Justificación de viabilidad:**\n",
    "\n",
    "La POC se puede implementar con recursos modestos: una base de datos estructurada (CSV/Excel), un entorno Jupyter para prototipado, y servicios web para generación de imágenes (NightCafe o Stable Diffusion) cuando se requiera. No es obligatorio disponer de GPU propia. La parte de texto puede automatizarse con APIs (OpenAI u alternativas) o usando prompts manuales si no hay clave API."
   ]
  },
  {
   "cell_type": "markdown",
   "id": "c6e5631b",
   "metadata": {},
   "source": [
    "## Objetivos\n",
    "\n",
    "**Objetivo general:**\n",
    "Desarrollar una POC que demuestre cómo prompts y pequeñas herramientas (búsquedas estandarizadas) pueden mejorar la gestión de repuestos en All Pumps Argentina.\n",
    "\n",
    "**Objetivos específicos:**\n",
    "- Crear una base de datos de ejemplo de repuestos y funciones de búsqueda reproducibles.\n",
    "- Diseñar prompts texto→texto para estandarizar respuestas a consultas internas.\n",
    "- Diseñar prompts texto→imagen para generar ilustraciones conceptuales de repuestos.\n",
    "- Evaluar qualitativamente el impacto en tiempos de respuesta y reducción de errores.\n"
   ]
  },
  {
   "cell_type": "markdown",
   "id": "2a730b45",
   "metadata": {},
   "source": [
    "## Metodología\n",
    "\n",
    "1. Recolección y normalización mínima de datos de repuestos (simulada).\n",
    "2. Implementación de funciones de búsqueda y filtrado en Jupyter (pandas).\n",
    "3. Diseño iterativo de prompts (fast prompting) para respuestas de texto y generación de prompts para imagen.\n",
    "4. Evaluación cualitativa con ejemplos reales y recomendaciones de integración a GitHub/ERP.\n"
   ]
  },
  {
   "cell_type": "markdown",
   "id": "0f03b153",
   "metadata": {},
   "source": [
    "## Herramientas y tecnologías\n",
    "\n",
    "- **Python / Jupyter Notebook**: para la POC.\n",
    "- **Pandas**: manipulación de la 'base de repuestos' de prueba.\n",
    "- **OpenAI (opcional)**: generación de texto automatizada.\n",
    "- **NightCafe / Stable Diffusion / DALL·E**: generación de imágenes (prompts manuales en estas plataformas).\n",
    "- **Fast prompting techniques**: role prompting, few-shot, constraints y templates.\n",
    "\n"
   ]
  },
  {
   "cell_type": "code",
   "execution_count": 1,
   "id": "a99115ed",
   "metadata": {},
   "outputs": [
    {
     "ename": "AttributeError",
     "evalue": "'Styler' object has no attribute 'hide_index'",
     "output_type": "error",
     "traceback": [
      "\u001b[1;31m---------------------------------------------------------------------------\u001b[0m",
      "\u001b[1;31mAttributeError\u001b[0m                            Traceback (most recent call last)",
      "Cell \u001b[1;32mIn[1], line 16\u001b[0m\n\u001b[0;32m     13\u001b[0m df_parts \u001b[38;5;241m=\u001b[39m pd\u001b[38;5;241m.\u001b[39mDataFrame(data)\n\u001b[0;32m     15\u001b[0m \u001b[38;5;66;03m# Mostrar la tabla\u001b[39;00m\n\u001b[1;32m---> 16\u001b[0m display(df_parts\u001b[38;5;241m.\u001b[39mstyle\u001b[38;5;241m.\u001b[39mhide_index())\n\u001b[0;32m     18\u001b[0m \u001b[38;5;66;03m# Funciones de búsqueda sencillas\u001b[39;00m\n\u001b[0;32m     19\u001b[0m \u001b[38;5;28;01mdef\u001b[39;00m \u001b[38;5;21mbuscar_por_codigo\u001b[39m(codigo):\n",
      "\u001b[1;31mAttributeError\u001b[0m: 'Styler' object has no attribute 'hide_index'"
     ]
    }
   ],
   "source": [
    "\n",
    " "
   ]
  },
  {
   "cell_type": "markdown",
   "id": "dfa86215",
   "metadata": {},
   "source": [
    "## Prompts — texto→texto (ejemplos específicos para All Pumps)\n",
    "\n",
    "A continuación hay templates de prompts para diferentes consultas internas. Reemplazar variables entre {{ }}.\n",
    "\n",
    "1) Consulta rápida de un repuesto (generar respuesta estandarizada para comercial/logística):\n",
    "\n",
    "```\n",
    "Eres un asistente técnico de All Pumps Argentina especializado en repuestos. Un usuario no técnico consulta:\n",
    "\"Necesito el repuesto {{nombre_repuesto}} para la bomba modelo {{modelo}}. ¿Cuál es el código, precio vigente en ARS, proveedor sugerido y la ubicación en el despiece?\"\n",
    "Responde en formato claro con: Código | Descripción breve | Precio ARS | Proveedor | Ubicación en despiece | Nota técnica corta (1 línea).\n",
    "```\n",
    "\n",
    "2) Identificación por apariencia (ayuda para comparar con foto enviada por el usuario):\n",
    "\n",
    "```\n",
    "Eres un técnico de repuestos. El usuario sube una foto (describirla en texto) y pregunta qué pieza podría ser de acuerdo con nuestro catálogo.\n",
    "Entrada: \"Foto: pequeña arandela metálica con labio, diámetro aproximado 40 mm; contexto: cerca del eje del impulsor de SlurryPro SC150\"\n",
    "Devuelve: posibles coincidencias del catálogo con probabilidades estimadas y recomendaciones para confirmar (medidas a tomar).\n",
    "```\n",
    "\n",
    "3) Generador de descripciones estandarizadas (para ficha técnica rápida):\n",
    "\n",
    "```\n",
    "Eres un redactor técnico. A partir de la siguiente información: Código: {{codigo}}, Descripción larga: {{desc_larga}}, fabricante: {{proveedor}}, generá una ficha de 4 líneas: título, uso, compatibilidad (modelos), y recomendación de montaje.\n",
    "```\n"
   ]
  },
  {
   "cell_type": "markdown",
   "id": "8ffae656",
   "metadata": {},
   "source": [
    "## Prompts — texto→imagen (ejemplos para generar ilustraciones conceptuales)\n",
    "\n",
    "**Nota:** las imágenes generadas por NightCafe o Stable Diffusion serán conceptuales, útiles para identificar visualmente repuestos pero no reemplazan planos técnicos.\n",
    "\n",
    "Template de prompt estructurado — ejemplo para NightCafe/Stable Diffusion:\n",
    "\n",
    "```\n",
    "Contexto: Ilustración técnica-conceptual para identificar repuestos de bomba.\n",
    "Sujeto: Sello mecánico doble para bomba SlurryPro SC150, mostrado en 3/4, recorte del eje con el sello acoplado.\n",
    "Estilo: Ilustración técnica realista, con líneas claras y sombreado suave, etiqueta con texto pequeño indicando 'sello mecánico'.\n",
    "Composición: primer plano del sello, fondo neutro, vista anotada tipo diagrama.\n",
    "Paleta: grises metálicos, contrastes en azul para detalles.\n",
    "Detalles técnicos: alta resolución, enfoque en superficies de contacto, incluir una escala gráfica simple.\n",
    "```\n",
    "\n",
    "Otro ejemplo (impulsor):\n",
    "```\n",
    "Sujeto: Impulsor de bomba centrífuga de 6 pulgadas, material aluminio, vista isométrica, gotas de agua en la superficie para contexto operativo. Estilo fotorealista-conceptual, fondo blanco.\n",
    "```\n",
    "Guarda las imágenes en `images/` y nómbralas con el código del repuesto para fácil asociación.\n"
   ]
  },
  {
   "cell_type": "markdown",
   "id": "be2d22cc",
   "metadata": {},
   "source": [
    "## Integración y pasos para producción\n",
    "\n",
    "- Reemplazar el DataFrame simulado por una tabla real exportada desde el ERP (CSV/Excel) con columnas: codigo, descripcion, modelo_bomba, proveedor, precio_ARS, ubicacion_despiece, imagen.\n",
    "- Implementar una API interna que permita consultas y devuelva JSON con campos estandarizados.\n",
    "- Opcional: indexar textos y descripciones en un motor de búsqueda semántica (Qdrant/Elasticsearch/FAISS) para búsquedas por similitud de texto o por imagen (embeddings).\n",
    "- UI mínima: crear una pequeña web (Flask/Streamlit) que permita al personal no técnico consultar y subir fotos para identificación asistida.\n"
   ]
  },
  {
   "cell_type": "markdown",
   "id": "563e52c3",
   "metadata": {},
   "source": [
    "## Resultados esperados y evaluación\n",
    "\n",
    "- Reducción del tiempo medio de respuesta a consultas internas (meta hipotética: -40% en TTR en consultas frecuentes).\n",
    "- Disminución de errores de selección de repuestos (medible con tasa de devoluciones/retrabajos).\n",
    "- Mejora en la autonomía de equipos comerciales y logísticos.\n",
    "\n",
    "**Evaluación en esta POC:**\n",
    "- Se mostró que con un DataFrame estandarizado y prompts claros se pueden obtener respuestas estandarizadas y reproducibles.\n",
    "- Las imágenes conceptuales ayudan a la identificación visual pero no reemplazan documentación técnica (planos/3D).\n"
   ]
  },
  {
   "cell_type": "markdown",
   "id": "a3264bdc",
   "metadata": {},
   "source": [
    "## Conclusiones\n",
    "\n",
    "- La centralización y estandarización de la información es la palanca principal para resolver la problemática en All Pumps Argentina.\n",
    "- Los prompts (texto→texto) permiten transformar consultas libres en respuestas estandarizadas para usuarios no técnicos.\n",
    "- Los prompts (texto→imagen) complementan la identificación visual de repuestos.\n",
    "- Próximos pasos: integrar la POC con datos reales del ERP, construir UI y evaluar con usuarios reales en el flujo interno.\n"
   ]
  },
  {
   "cell_type": "markdown",
   "id": "43c2b6ac",
   "metadata": {},
   "source": [
    "## Referencias\n",
    "\n",
    "- Consigna del curso: *Proyecto Final — Entretejiendo Imaginación y Algoritmos* (Coderflex).\n",
    "- Recursos recomendados para generación de imágenes: NightCafe, Stable Diffusion.\n",
    "\n"
   ]
  }
 ],
 "metadata": {
  "kernelspec": {
   "display_name": "Python [conda env:base] *",
   "language": "python",
   "name": "conda-base-py"
  },
  "language_info": {
   "codemirror_mode": {
    "name": "ipython",
    "version": 3
   },
   "file_extension": ".py",
   "mimetype": "text/x-python",
   "name": "python",
   "nbconvert_exporter": "python",
   "pygments_lexer": "ipython3",
   "version": "3.12.7"
  }
 },
 "nbformat": 4,
 "nbformat_minor": 5
}
